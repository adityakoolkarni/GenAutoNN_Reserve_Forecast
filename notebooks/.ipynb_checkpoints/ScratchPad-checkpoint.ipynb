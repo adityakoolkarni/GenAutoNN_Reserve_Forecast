{
 "cells": [
  {
   "cell_type": "code",
   "execution_count": null,
   "metadata": {},
   "outputs": [],
   "source": [
    "import mxnet as mx\n",
    "\n",
    "from mxnet.ndarray import linalg_gemm as gemm\n",
    "from mxnet.ndarray import linalg_gemm2 as gemm2\n",
    "from mxnet.ndarray import linalg_potrf as potrf\n",
    "from mxnet.ndarray import linalg_trsm as trsm\n",
    "from mxnet.ndarray import linalg_sumlogdiag as sumlogdiag\n",
    "\n",
    "import mxnet.ndarray as nd"
   ]
  },
  {
   "cell_type": "code",
   "execution_count": null,
   "metadata": {},
   "outputs": [],
   "source": [
    "import numpy as np\n",
    "import matplotlib.pyplot as plt\n",
    "%matplotlib inline\n",
    "plt.rcParams[\"figure.figsize\"] = (10, 5)"
   ]
  },
  {
   "cell_type": "code",
   "execution_count": null,
   "metadata": {},
   "outputs": [],
   "source": [
    "np.random(10,p=0.1)"
   ]
  },
  {
   "cell_type": "code",
   "execution_count": 4,
   "metadata": {},
   "outputs": [],
   "source": [
    "\n",
    "alpha = 0.5\n",
    "sigma = 0.5\n",
    "theta = np.pi / 6\n",
    "T = 50\n",
    "\n",
    "A = nd.array([[np.cos(theta), -np.sin(theta)],\n",
    "              [np.sin(theta), np.cos(theta)]])\n",
    "B = nd.array([[1, 0]])\n",
    "\n",
    "S_h = nd.array(np.square(alpha) * np.eye(2))\n",
    "S_v = nd.array(np.square(sigma) * np.eye(1))\n",
    "\n",
    "v = []\n",
    "# initial state h_0\n",
    "h = np.array([1, 0])\n",
    "for t in range(T):\n",
    "    # h_t = Bh_{t-1} + \\epsilon_h\n",
    "    h = np.random.multivariate_normal(A.asnumpy().dot(h), S_h.asnumpy())\n",
    "\n",
    "    # v_t = Ah_t + \\epsilon_v\n",
    "    vv = np.random.normal(B.asnumpy().dot(h), S_v.asnumpy())\n",
    "\n",
    "    v.append(vv)\n",
    "v = nd.array(np.array(v).reshape((T,1)))"
   ]
  },
  {
   "cell_type": "code",
   "execution_count": 5,
   "metadata": {},
   "outputs": [
    {
     "data": {
      "image/png": "[encoded data removed]",
      "text/plain": [
       "<Figure size 432x288 with 1 Axes>"
      ]
     },
     "metadata": {
      "needs_background": "light"
     },
     "output_type": "display_data"
    }
   ],
   "source": [
    "plt.plot(v.asnumpy());"
   ]
  },
  {
   "cell_type": "code",
   "execution_count": 6,
   "metadata": {},
   "outputs": [],
   "source": [
    "def LDS_forward(v, A, B, S_h, S_v):\n",
    "\n",
    "    H = A.shape[0] # dim of latent state\n",
    "    D = B.shape[0] # dim of observation\n",
    "    T = v.shape[0] # num of observations\n",
    "\n",
    "    f_0 = nd.zeros((H,1))\n",
    "    F_0 = nd.zeros((H,H))\n",
    "\n",
    "    eye_h = nd.array(np.eye(H))\n",
    "\n",
    "    F_t = None\n",
    "    f_t = None\n",
    "    F_seq = []\n",
    "    f_seq = []\n",
    "    log_p_seq = []\n",
    "\n",
    "    for t in range(T):\n",
    "\n",
    "        if t == 0:\n",
    "            # At the first time step, use the prior\n",
    "            mu_h = f_0\n",
    "            S_hh = F_0\n",
    "        else:\n",
    "            # Otherwise compute using update eqns.\n",
    "            mu_h = gemm2(A, f_t)\n",
    "            S_hh = gemm2(A, gemm2(F_t, A, transpose_b=1)) + S_h\n",
    "\n",
    "        # direct transcription of the update equations above\n",
    "        mu_v = gemm2(B, mu_h)\n",
    "        S_hh_x_B_t = gemm2(S_hh, B, transpose_b=1)\n",
    "        S_vv = gemm2(B, S_hh_x_B_t) + S_v\n",
    "        S_vh = gemm2(B, S_hh)\n",
    "\n",
    "        # use potrf to compute the Cholesky decomposition S_vv = LL^T\n",
    "        S_vv_chol = potrf(S_vv)\n",
    "\n",
    "        # K = S_hh X with X = B^T S_vv^{-1}\n",
    "        # We have X = B^T S_vv^{-1} => X S_vv = B^T => X LL^T = B^T\n",
    "        # We can thus obtain X by solving two linear systems involving L\n",
    "        K = trsm(S_vv_chol, trsm(S_vv_chol, S_hh_x_B_t, rightside=1, transpose=1), rightside=1)\n",
    "\n",
    "        delta = v[t] - mu_v\n",
    "        f_t = mu_h + gemm2(K, delta)\n",
    "\n",
    "        ImKB = eye_h - gemm2(K, B)\n",
    "        F_t = (gemm2(ImKB, gemm2(S_hh, ImKB, transpose_b=True))\n",
    "                       + gemm2(K, gemm2(S_v, K, transpose_b=True), name=\"Ft\"))\n",
    "\n",
    "        # save filtered covariance and mean\n",
    "        F_seq.append(F_t)\n",
    "        f_seq.append(f_t)\n",
    "\n",
    "        # compute the likelihood using mu_v and L (LL^T = S_vv)\n",
    "        Z = trsm(S_vv_chol, trsm(S_vv_chol, delta), transpose=1)\n",
    "        log_p = (-0.5 * (mx.nd.reshape(gemm2(delta, Z, transpose_a=True), shape=(0,), name=\"reshaped\")\n",
    "                         + D*np.log(2.0 * np.pi)) - sumlogdiag(S_vv_chol))\n",
    "        log_p_seq.append(log_p)\n",
    "\n",
    "\n",
    "    return f_seq, F_seq, log_p_seq"
   ]
  },
  {
   "cell_type": "code",
   "execution_count": 23,
   "metadata": {},
   "outputs": [],
   "source": [
    "trsm?"
   ]
  },
  {
   "cell_type": "code",
   "execution_count": 20,
   "metadata": {},
   "outputs": [
    {
     "data": {
      "text/plain": [
       "\n",
       "[[2.  0. ]\n",
       " [0.5 2. ]]\n",
       "<NDArray 2x2 @cpu(0)>"
      ]
     },
     "execution_count": 20,
     "metadata": {},
     "output_type": "execute_result"
    }
   ],
   "source": [
    "A = nd.array([[4.0, 1.0], [1.0, 4.25]])\n",
    "B = potrf(A)\n",
    "# potrf(A) = [[[2.0, 0], [0.5, 2.0]], [[4.0, 0], [1.0, 4.0]]]\n",
    "B"
   ]
  },
  {
   "cell_type": "code",
   "execution_count": 21,
   "metadata": {},
   "outputs": [
    {
     "data": {
      "text/plain": [
       "\n",
       "[[4.   1.  ]\n",
       " [1.   4.25]]\n",
       "<NDArray 2x2 @cpu(0)>"
      ]
     },
     "execution_count": 21,
     "metadata": {},
     "output_type": "execute_result"
    }
   ],
   "source": [
    "gemm2(B, B,transpose_b=True)"
   ]
  },
  {
   "cell_type": "code",
   "execution_count": 22,
   "metadata": {},
   "outputs": [
    {
     "data": {
      "text/plain": [
       "\n",
       "[[4.   1.  ]\n",
       " [1.   4.25]]\n",
       "<NDArray 2x2 @cpu(0)>"
      ]
     },
     "execution_count": 22,
     "metadata": {},
     "output_type": "execute_result"
    }
   ],
   "source": [
    "A"
   ]
  },
  {
   "cell_type": "code",
   "execution_count": 24,
   "metadata": {},
   "outputs": [],
   "source": [
    "import pandas as pd\n",
    "import numpy as np\n",
    "%matplotlib inline\n",
    "import matplotlib.pyplot as plt\n",
    "plt.rcParams[\"figure.figsize\"] = (12, 5)"
   ]
  },
  {
   "cell_type": "code",
   "execution_count": 25,
   "metadata": {},
   "outputs": [],
   "source": [
    "df = pd.read_csv(\"https://datahub.io/core/bond-yields-us-10y/r/monthly.csv\", header=0)"
   ]
  },
  {
   "cell_type": "code",
   "execution_count": 30,
   "metadata": {},
   "outputs": [],
   "source": [
    "df.set_index(\"Date\")\n",
    "\n",
    "# get the time series\n",
    "ts = df.values[:,1]\n",
    "\n",
    "# Let us normalize the time series\n",
    "ts = np.array((ts - np.mean(ts)) / np.std(ts), dtype=np.double)"
   ]
  },
  {
   "cell_type": "code",
   "execution_count": 33,
   "metadata": {},
   "outputs": [
    {
     "data": {
      "image/png": "[encoded data removed]",
      "text/plain": [
       "<Figure size 864x360 with 1 Axes>"
      ]
     },
     "metadata": {
      "needs_background": "light"
     },
     "output_type": "display_data"
    }
   ],
   "source": [
    "plt.plot(ts);"
   ]
  },
  {
   "cell_type": "code",
   "execution_count": 1,
   "metadata": {},
   "outputs": [],
   "source": [
    "from __future__ import print_function\n",
    "import mxnet as mx\n",
    "from mxnet import nd, autograd\n",
    "import numpy as np\n",
    "mx.random.seed(1)\n",
    "ctx = mx.gpu(0)"
   ]
  },
  {
   "cell_type": "code",
   "execution_count": 2,
   "metadata": {},
   "outputs": [
    {
     "ename": "FileNotFoundError",
     "evalue": "[Errno 2] No such file or directory: '../data/nlp/timemachine.txt'",
     "output_type": "error",
     "traceback": [
      "\u001b[0;31m\u001b[0m",
      "\u001b[0;31mFileNotFoundError\u001b[0mTraceback (most recent call last)",
      "\u001b[0;32m<ipython-input-2-c08fa4aded07>\u001b[0m in \u001b[0;36m<module>\u001b[0;34m\u001b[0m\n\u001b[0;32m----> 1\u001b[0;31m \u001b[0;32mwith\u001b[0m \u001b[0mopen\u001b[0m\u001b[0;34m(\u001b[0m\u001b[0;34m\"../data/nlp/timemachine.txt\"\u001b[0m\u001b[0;34m)\u001b[0m \u001b[0;32mas\u001b[0m \u001b[0mf\u001b[0m\u001b[0;34m:\u001b[0m\u001b[0;34m\u001b[0m\u001b[0;34m\u001b[0m\u001b[0m\n\u001b[0m\u001b[1;32m      2\u001b[0m     \u001b[0mtime_machine\u001b[0m \u001b[0;34m=\u001b[0m \u001b[0mf\u001b[0m\u001b[0;34m.\u001b[0m\u001b[0mread\u001b[0m\u001b[0;34m(\u001b[0m\u001b[0;34m)\u001b[0m\u001b[0;34m\u001b[0m\u001b[0;34m\u001b[0m\u001b[0m\n\u001b[1;32m      3\u001b[0m \u001b[0mtime_machine\u001b[0m \u001b[0;34m=\u001b[0m \u001b[0mtime_machine\u001b[0m\u001b[0;34m[\u001b[0m\u001b[0;34m:\u001b[0m\u001b[0;34m-\u001b[0m\u001b[0;36m38083\u001b[0m\u001b[0;34m]\u001b[0m\u001b[0;34m\u001b[0m\u001b[0;34m\u001b[0m\u001b[0m\n",
      "\u001b[0;31mFileNotFoundError\u001b[0m: [Errno 2] No such file or directory: '../data/nlp/timemachine.txt'"
     ]
    }
   ],
   "source": [
    "with open(\"../data/nlp/timemachine.txt\") as f:\n",
    "    time_machine = f.read()\n",
    "time_machine = time_machine[:-38083]"
   ]
  },
  {
   "cell_type": "code",
   "execution_count": null,
   "metadata": {},
   "outputs": [],
   "source": []
  }
 ],
 "metadata": {
  "kernelspec": {
   "display_name": "Python 3",
   "language": "python",
   "name": "python3"
  },
  "language_info": {
   "codemirror_mode": {
    "name": "ipython",
    "version": 3
   },
   "file_extension": ".py",
   "mimetype": "text/x-python",
   "name": "python",
   "nbconvert_exporter": "python",
   "pygments_lexer": "ipython3",
   "version": "3.7.3"
  }
 },
 "nbformat": 4,
 "nbformat_minor": 2
}
