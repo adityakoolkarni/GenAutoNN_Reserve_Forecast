{
 "cells": [
  {
   "cell_type": "code",
   "execution_count": 1,
   "metadata": {},
   "outputs": [],
   "source": [
    "import numpy as np\n",
    "import pandas as pd\n",
    "import os\n",
    "import shutil\n",
    "import time\n",
    "import datetime"
   ]
  },
  {
   "cell_type": "code",
   "execution_count": 2,
   "metadata": {},
   "outputs": [],
   "source": [
    "read_dir = './data'\n",
    "csv_files = os.listdir(read_dir)"
   ]
  },
  {
   "cell_type": "code",
   "execution_count": 3,
   "metadata": {},
   "outputs": [],
   "source": [
    "load_dfs = []\n",
    "ren_dfs = []\n",
    "for csv_file in csv_files:\n",
    "    if 'REN' not in csv_file:\n",
    "        cur_df = pd.read_csv(\n",
    "            os.path.join(read_dir, csv_file),\n",
    "            parse_dates={'start_dt': ['INTERVALSTARTTIME_GMT'], 'end_dt': ['INTERVALENDTIME_GMT']}\n",
    "        )\n",
    "        load_dfs.append(cur_df)\n",
    "    else:\n",
    "        cur_df = pd.read_csv(\n",
    "            os.path.join(read_dir, csv_file),\n",
    "            parse_dates={'start_dt': ['INTERVALSTARTTIME_GMT'], 'end_dt': ['INTERVALENDTIME_GMT']}\n",
    "        )\n",
    "        ren_dfs.append(cur_df)\n",
    "\n",
    "load_df = pd.concat(load_dfs)\n",
    "ren_df = pd.concat(ren_dfs)"
   ]
  },
  {
   "cell_type": "code",
   "execution_count": 4,
   "metadata": {},
   "outputs": [
    {
     "name": "stdout",
     "output_type": "stream",
     "text": [
      "<class 'pandas.core.frame.DataFrame'>\n",
      "Int64Index: 397850 entries, 0 to 11814\n",
      "Data columns (total 14 columns):\n",
      " #   Column          Non-Null Count   Dtype              \n",
      "---  ------          --------------   -----              \n",
      " 0   start_dt        397850 non-null  datetime64[ns, UTC]\n",
      " 1   end_dt          397850 non-null  datetime64[ns, UTC]\n",
      " 2   LOAD_TYPE       397850 non-null  int64              \n",
      " 3   OPR_DT          397850 non-null  object             \n",
      " 4   OPR_HR          397850 non-null  int64              \n",
      " 5   OPR_INTERVAL    397850 non-null  int64              \n",
      " 6   MARKET_RUN_ID   397850 non-null  object             \n",
      " 7   TAC_AREA_NAME   397850 non-null  object             \n",
      " 8   LABEL           397850 non-null  object             \n",
      " 9   XML_DATA_ITEM   397850 non-null  object             \n",
      " 10  POS             397850 non-null  float64            \n",
      " 11  MW              397850 non-null  int64              \n",
      " 12  EXECUTION_TYPE  397850 non-null  object             \n",
      " 13  GROUP           397850 non-null  int64              \n",
      "dtypes: datetime64[ns, UTC](2), float64(1), int64(5), object(6)\n",
      "memory usage: 45.5+ MB\n"
     ]
    }
   ],
   "source": [
    "load_df.info()"
   ]
  },
  {
   "cell_type": "code",
   "execution_count": 5,
   "metadata": {},
   "outputs": [
    {
     "name": "stdout",
     "output_type": "stream",
     "text": [
      "<class 'pandas.core.frame.DataFrame'>\n",
      "Int64Index: 141160 entries, 0 to 3594\n",
      "Data columns (total 14 columns):\n",
      " #   Column             Non-Null Count   Dtype              \n",
      "---  ------             --------------   -----              \n",
      " 0   start_dt           141160 non-null  datetime64[ns, UTC]\n",
      " 1   end_dt             141160 non-null  datetime64[ns, UTC]\n",
      " 2   OPR_DT             141160 non-null  object             \n",
      " 3   OPR_HR             141160 non-null  int64              \n",
      " 4   OPR_INTERVAL       141160 non-null  int64              \n",
      " 5   TRADING_HUB        141160 non-null  object             \n",
      " 6   RENEWABLE_TYPE     141160 non-null  object             \n",
      " 7   LABEL              141160 non-null  object             \n",
      " 8   XML_DATA_ITEM      141160 non-null  object             \n",
      " 9   MARKET_RUN_ID_POS  141160 non-null  int64              \n",
      " 10  RENEW_POS          141160 non-null  int64              \n",
      " 11  MW                 141160 non-null  float64            \n",
      " 12  MARKET_RUN_ID      141160 non-null  object             \n",
      " 13  GROUP              141160 non-null  int64              \n",
      "dtypes: datetime64[ns, UTC](2), float64(1), int64(5), object(6)\n",
      "memory usage: 16.2+ MB\n"
     ]
    }
   ],
   "source": [
    "ren_df.info()"
   ]
  },
  {
   "cell_type": "code",
   "execution_count": 6,
   "metadata": {},
   "outputs": [],
   "source": [
    "load_df = load_df.drop(columns=['OPR_DT',\n",
    "                                'OPR_HR',\n",
    "                                'OPR_INTERVAL',\n",
    "                                'LOAD_TYPE',\n",
    "                                'MARKET_RUN_ID',\n",
    "                                'XML_DATA_ITEM',\n",
    "                                'POS',\n",
    "                                'EXECUTION_TYPE',\n",
    "                                'GROUP'\n",
    "                               ])"
   ]
  },
  {
   "cell_type": "code",
   "execution_count": 7,
   "metadata": {},
   "outputs": [],
   "source": [
    "ren_df = ren_df.drop(columns=['OPR_DT',\n",
    "                              'OPR_HR',\n",
    "                              'OPR_INTERVAL',\n",
    "                              'XML_DATA_ITEM',\n",
    "                              'MARKET_RUN_ID_POS',\n",
    "                              'RENEW_POS',\n",
    "                              'MARKET_RUN_ID',\n",
    "                              'GROUP'\n",
    "                             ])"
   ]
  },
  {
   "cell_type": "code",
   "execution_count": 8,
   "metadata": {},
   "outputs": [],
   "source": [
    "# clean the integrated load df"
   ]
  },
  {
   "cell_type": "code",
   "execution_count": 9,
   "metadata": {},
   "outputs": [],
   "source": [
    "cur_load_tac = 'CA ISO-TAC'"
   ]
  },
  {
   "cell_type": "code",
   "execution_count": 10,
   "metadata": {},
   "outputs": [],
   "source": [
    "load_df = load_df[load_df.TAC_AREA_NAME == cur_load_tac]"
   ]
  },
  {
   "cell_type": "code",
   "execution_count": 11,
   "metadata": {},
   "outputs": [],
   "source": [
    "load_df = load_df.drop(columns=['TAC_AREA_NAME',\n",
    "                                'LABEL'\n",
    "                               ])"
   ]
  },
  {
   "cell_type": "code",
   "execution_count": 12,
   "metadata": {},
   "outputs": [],
   "source": [
    "load_df = load_df.rename(columns={'MW': 'total_integrated_load_MW'})"
   ]
  },
  {
   "cell_type": "code",
   "execution_count": 13,
   "metadata": {},
   "outputs": [
    {
     "data": {
      "text/html": [
       "<div>\n",
       "<style scoped>\n",
       "    .dataframe tbody tr th:only-of-type {\n",
       "        vertical-align: middle;\n",
       "    }\n",
       "\n",
       "    .dataframe tbody tr th {\n",
       "        vertical-align: top;\n",
       "    }\n",
       "\n",
       "    .dataframe thead th {\n",
       "        text-align: right;\n",
       "    }\n",
       "</style>\n",
       "<table border=\"1\" class=\"dataframe\">\n",
       "  <thead>\n",
       "    <tr style=\"text-align: right;\">\n",
       "      <th></th>\n",
       "      <th>start_dt</th>\n",
       "      <th>end_dt</th>\n",
       "      <th>total_integrated_load_MW</th>\n",
       "    </tr>\n",
       "  </thead>\n",
       "  <tbody>\n",
       "    <tr>\n",
       "      <th>21</th>\n",
       "      <td>2019-06-01 01:00:00+00:00</td>\n",
       "      <td>2019-06-01 02:00:00+00:00</td>\n",
       "      <td>27212</td>\n",
       "    </tr>\n",
       "    <tr>\n",
       "      <th>22</th>\n",
       "      <td>2019-06-01 05:00:00+00:00</td>\n",
       "      <td>2019-06-01 06:00:00+00:00</td>\n",
       "      <td>25314</td>\n",
       "    </tr>\n",
       "    <tr>\n",
       "      <th>23</th>\n",
       "      <td>2019-06-01 00:00:00+00:00</td>\n",
       "      <td>2019-06-01 01:00:00+00:00</td>\n",
       "      <td>26682</td>\n",
       "    </tr>\n",
       "    <tr>\n",
       "      <th>24</th>\n",
       "      <td>2019-06-01 02:00:00+00:00</td>\n",
       "      <td>2019-06-01 03:00:00+00:00</td>\n",
       "      <td>27380</td>\n",
       "    </tr>\n",
       "    <tr>\n",
       "      <th>25</th>\n",
       "      <td>2019-06-01 03:00:00+00:00</td>\n",
       "      <td>2019-06-01 04:00:00+00:00</td>\n",
       "      <td>27734</td>\n",
       "    </tr>\n",
       "  </tbody>\n",
       "</table>\n",
       "</div>"
      ],
      "text/plain": [
       "                    start_dt                    end_dt  \\\n",
       "21 2019-06-01 01:00:00+00:00 2019-06-01 02:00:00+00:00   \n",
       "22 2019-06-01 05:00:00+00:00 2019-06-01 06:00:00+00:00   \n",
       "23 2019-06-01 00:00:00+00:00 2019-06-01 01:00:00+00:00   \n",
       "24 2019-06-01 02:00:00+00:00 2019-06-01 03:00:00+00:00   \n",
       "25 2019-06-01 03:00:00+00:00 2019-06-01 04:00:00+00:00   \n",
       "\n",
       "    total_integrated_load_MW  \n",
       "21                     27212  \n",
       "22                     25314  \n",
       "23                     26682  \n",
       "24                     27380  \n",
       "25                     27734  "
      ]
     },
     "execution_count": 13,
     "metadata": {},
     "output_type": "execute_result"
    }
   ],
   "source": [
    "load_df.head()"
   ]
  },
  {
   "cell_type": "code",
   "execution_count": 14,
   "metadata": {},
   "outputs": [
    {
     "name": "stdout",
     "output_type": "stream",
     "text": [
      "<class 'pandas.core.frame.DataFrame'>\n",
      "Int64Index: 28256 entries, 21 to 11606\n",
      "Data columns (total 3 columns):\n",
      " #   Column                    Non-Null Count  Dtype              \n",
      "---  ------                    --------------  -----              \n",
      " 0   start_dt                  28256 non-null  datetime64[ns, UTC]\n",
      " 1   end_dt                    28256 non-null  datetime64[ns, UTC]\n",
      " 2   total_integrated_load_MW  28256 non-null  int64              \n",
      "dtypes: datetime64[ns, UTC](2), int64(1)\n",
      "memory usage: 883.0 KB\n"
     ]
    }
   ],
   "source": [
    "load_df.info()"
   ]
  },
  {
   "cell_type": "code",
   "execution_count": 15,
   "metadata": {},
   "outputs": [],
   "source": [
    "# clean the renewable generation df"
   ]
  },
  {
   "cell_type": "code",
   "execution_count": 16,
   "metadata": {},
   "outputs": [],
   "source": [
    "ren_df = ren_df.groupby(['start_dt', 'RENEWABLE_TYPE'])['MW'].aggregate('sum').unstack()"
   ]
  },
  {
   "cell_type": "code",
   "execution_count": 17,
   "metadata": {},
   "outputs": [
    {
     "data": {
      "text/html": [
       "<div>\n",
       "<style scoped>\n",
       "    .dataframe tbody tr th:only-of-type {\n",
       "        vertical-align: middle;\n",
       "    }\n",
       "\n",
       "    .dataframe tbody tr th {\n",
       "        vertical-align: top;\n",
       "    }\n",
       "\n",
       "    .dataframe thead th {\n",
       "        text-align: right;\n",
       "    }\n",
       "</style>\n",
       "<table border=\"1\" class=\"dataframe\">\n",
       "  <thead>\n",
       "    <tr style=\"text-align: right;\">\n",
       "      <th>RENEWABLE_TYPE</th>\n",
       "      <th>Solar</th>\n",
       "      <th>Wind</th>\n",
       "    </tr>\n",
       "    <tr>\n",
       "      <th>start_dt</th>\n",
       "      <th></th>\n",
       "      <th></th>\n",
       "    </tr>\n",
       "  </thead>\n",
       "  <tbody>\n",
       "    <tr>\n",
       "      <th>2017-07-01 07:00:00+00:00</th>\n",
       "      <td>-31.09459</td>\n",
       "      <td>2881.98320</td>\n",
       "    </tr>\n",
       "    <tr>\n",
       "      <th>2017-07-01 08:00:00+00:00</th>\n",
       "      <td>-30.83811</td>\n",
       "      <td>2765.90229</td>\n",
       "    </tr>\n",
       "    <tr>\n",
       "      <th>2017-07-01 09:00:00+00:00</th>\n",
       "      <td>-30.48083</td>\n",
       "      <td>2791.72076</td>\n",
       "    </tr>\n",
       "    <tr>\n",
       "      <th>2017-07-01 10:00:00+00:00</th>\n",
       "      <td>-31.98818</td>\n",
       "      <td>2549.59684</td>\n",
       "    </tr>\n",
       "    <tr>\n",
       "      <th>2017-07-01 11:00:00+00:00</th>\n",
       "      <td>-32.67630</td>\n",
       "      <td>2502.67552</td>\n",
       "    </tr>\n",
       "  </tbody>\n",
       "</table>\n",
       "</div>"
      ],
      "text/plain": [
       "RENEWABLE_TYPE                Solar        Wind\n",
       "start_dt                                       \n",
       "2017-07-01 07:00:00+00:00 -31.09459  2881.98320\n",
       "2017-07-01 08:00:00+00:00 -30.83811  2765.90229\n",
       "2017-07-01 09:00:00+00:00 -30.48083  2791.72076\n",
       "2017-07-01 10:00:00+00:00 -31.98818  2549.59684\n",
       "2017-07-01 11:00:00+00:00 -32.67630  2502.67552"
      ]
     },
     "execution_count": 17,
     "metadata": {},
     "output_type": "execute_result"
    }
   ],
   "source": [
    "ren_df.head()"
   ]
  },
  {
   "cell_type": "code",
   "execution_count": 18,
   "metadata": {},
   "outputs": [
    {
     "data": {
      "text/plain": [
       "Index(['Solar', 'Wind'], dtype='object', name='RENEWABLE_TYPE')"
      ]
     },
     "execution_count": 18,
     "metadata": {},
     "output_type": "execute_result"
    }
   ],
   "source": [
    "ren_df.columns"
   ]
  },
  {
   "cell_type": "code",
   "execution_count": 19,
   "metadata": {},
   "outputs": [],
   "source": [
    "ren_df = ren_df.rename(columns={'Solar': 'solar_generation_MW', 'Wind': 'wind_generation_MW'})"
   ]
  },
  {
   "cell_type": "code",
   "execution_count": 20,
   "metadata": {},
   "outputs": [
    {
     "name": "stdout",
     "output_type": "stream",
     "text": [
      "<class 'pandas.core.frame.DataFrame'>\n",
      "DatetimeIndex: 28232 entries, 2017-07-01 07:00:00+00:00 to 2020-10-30 22:00:00+00:00\n",
      "Data columns (total 2 columns):\n",
      " #   Column               Non-Null Count  Dtype  \n",
      "---  ------               --------------  -----  \n",
      " 0   solar_generation_MW  28232 non-null  float64\n",
      " 1   wind_generation_MW   28232 non-null  float64\n",
      "dtypes: float64(2)\n",
      "memory usage: 661.7 KB\n"
     ]
    }
   ],
   "source": [
    "ren_df.info()"
   ]
  },
  {
   "cell_type": "code",
   "execution_count": 21,
   "metadata": {},
   "outputs": [],
   "source": [
    "df = load_df.merge(ren_df, how='inner', on='start_dt').sort_values(by=['start_dt']).reset_index(drop=True)"
   ]
  },
  {
   "cell_type": "code",
   "execution_count": 22,
   "metadata": {},
   "outputs": [
    {
     "data": {
      "text/html": [
       "<div>\n",
       "<style scoped>\n",
       "    .dataframe tbody tr th:only-of-type {\n",
       "        vertical-align: middle;\n",
       "    }\n",
       "\n",
       "    .dataframe tbody tr th {\n",
       "        vertical-align: top;\n",
       "    }\n",
       "\n",
       "    .dataframe thead th {\n",
       "        text-align: right;\n",
       "    }\n",
       "</style>\n",
       "<table border=\"1\" class=\"dataframe\">\n",
       "  <thead>\n",
       "    <tr style=\"text-align: right;\">\n",
       "      <th></th>\n",
       "      <th>start_dt</th>\n",
       "      <th>end_dt</th>\n",
       "      <th>total_integrated_load_MW</th>\n",
       "      <th>solar_generation_MW</th>\n",
       "      <th>wind_generation_MW</th>\n",
       "    </tr>\n",
       "  </thead>\n",
       "  <tbody>\n",
       "    <tr>\n",
       "      <th>0</th>\n",
       "      <td>2017-07-01 07:00:00+00:00</td>\n",
       "      <td>2017-07-01 08:00:00+00:00</td>\n",
       "      <td>25703</td>\n",
       "      <td>-31.09459</td>\n",
       "      <td>2881.98320</td>\n",
       "    </tr>\n",
       "    <tr>\n",
       "      <th>1</th>\n",
       "      <td>2017-07-01 08:00:00+00:00</td>\n",
       "      <td>2017-07-01 09:00:00+00:00</td>\n",
       "      <td>24043</td>\n",
       "      <td>-30.83811</td>\n",
       "      <td>2765.90229</td>\n",
       "    </tr>\n",
       "    <tr>\n",
       "      <th>2</th>\n",
       "      <td>2017-07-01 09:00:00+00:00</td>\n",
       "      <td>2017-07-01 10:00:00+00:00</td>\n",
       "      <td>22988</td>\n",
       "      <td>-30.48083</td>\n",
       "      <td>2791.72076</td>\n",
       "    </tr>\n",
       "    <tr>\n",
       "      <th>3</th>\n",
       "      <td>2017-07-01 10:00:00+00:00</td>\n",
       "      <td>2017-07-01 11:00:00+00:00</td>\n",
       "      <td>22423</td>\n",
       "      <td>-31.98818</td>\n",
       "      <td>2549.59684</td>\n",
       "    </tr>\n",
       "    <tr>\n",
       "      <th>4</th>\n",
       "      <td>2017-07-01 11:00:00+00:00</td>\n",
       "      <td>2017-07-01 12:00:00+00:00</td>\n",
       "      <td>22235</td>\n",
       "      <td>-32.67630</td>\n",
       "      <td>2502.67552</td>\n",
       "    </tr>\n",
       "  </tbody>\n",
       "</table>\n",
       "</div>"
      ],
      "text/plain": [
       "                   start_dt                    end_dt  \\\n",
       "0 2017-07-01 07:00:00+00:00 2017-07-01 08:00:00+00:00   \n",
       "1 2017-07-01 08:00:00+00:00 2017-07-01 09:00:00+00:00   \n",
       "2 2017-07-01 09:00:00+00:00 2017-07-01 10:00:00+00:00   \n",
       "3 2017-07-01 10:00:00+00:00 2017-07-01 11:00:00+00:00   \n",
       "4 2017-07-01 11:00:00+00:00 2017-07-01 12:00:00+00:00   \n",
       "\n",
       "   total_integrated_load_MW  solar_generation_MW  wind_generation_MW  \n",
       "0                     25703            -31.09459          2881.98320  \n",
       "1                     24043            -30.83811          2765.90229  \n",
       "2                     22988            -30.48083          2791.72076  \n",
       "3                     22423            -31.98818          2549.59684  \n",
       "4                     22235            -32.67630          2502.67552  "
      ]
     },
     "execution_count": 22,
     "metadata": {},
     "output_type": "execute_result"
    }
   ],
   "source": [
    "df.head()"
   ]
  },
  {
   "cell_type": "code",
   "execution_count": 23,
   "metadata": {},
   "outputs": [
    {
     "name": "stdout",
     "output_type": "stream",
     "text": [
      "<class 'pandas.core.frame.DataFrame'>\n",
      "RangeIndex: 28232 entries, 0 to 28231\n",
      "Data columns (total 5 columns):\n",
      " #   Column                    Non-Null Count  Dtype              \n",
      "---  ------                    --------------  -----              \n",
      " 0   start_dt                  28232 non-null  datetime64[ns, UTC]\n",
      " 1   end_dt                    28232 non-null  datetime64[ns, UTC]\n",
      " 2   total_integrated_load_MW  28232 non-null  int64              \n",
      " 3   solar_generation_MW       28232 non-null  float64            \n",
      " 4   wind_generation_MW        28232 non-null  float64            \n",
      "dtypes: datetime64[ns, UTC](2), float64(2), int64(1)\n",
      "memory usage: 1.1 MB\n"
     ]
    }
   ],
   "source": [
    "df.info()"
   ]
  },
  {
   "cell_type": "code",
   "execution_count": 24,
   "metadata": {},
   "outputs": [
    {
     "data": {
      "text/html": [
       "<div>\n",
       "<style scoped>\n",
       "    .dataframe tbody tr th:only-of-type {\n",
       "        vertical-align: middle;\n",
       "    }\n",
       "\n",
       "    .dataframe tbody tr th {\n",
       "        vertical-align: top;\n",
       "    }\n",
       "\n",
       "    .dataframe thead th {\n",
       "        text-align: right;\n",
       "    }\n",
       "</style>\n",
       "<table border=\"1\" class=\"dataframe\">\n",
       "  <thead>\n",
       "    <tr style=\"text-align: right;\">\n",
       "      <th></th>\n",
       "      <th>start_dt</th>\n",
       "      <th>end_dt</th>\n",
       "      <th>total_integrated_load_MW</th>\n",
       "      <th>solar_generation_MW</th>\n",
       "      <th>wind_generation_MW</th>\n",
       "    </tr>\n",
       "  </thead>\n",
       "  <tbody>\n",
       "    <tr>\n",
       "      <th>28227</th>\n",
       "      <td>2020-10-30 18:00:00+00:00</td>\n",
       "      <td>2020-10-30 19:00:00+00:00</td>\n",
       "      <td>23224</td>\n",
       "      <td>8243.72168</td>\n",
       "      <td>148.89958</td>\n",
       "    </tr>\n",
       "    <tr>\n",
       "      <th>28228</th>\n",
       "      <td>2020-10-30 19:00:00+00:00</td>\n",
       "      <td>2020-10-30 20:00:00+00:00</td>\n",
       "      <td>23304</td>\n",
       "      <td>8151.44188</td>\n",
       "      <td>150.94192</td>\n",
       "    </tr>\n",
       "    <tr>\n",
       "      <th>28229</th>\n",
       "      <td>2020-10-30 20:00:00+00:00</td>\n",
       "      <td>2020-10-30 21:00:00+00:00</td>\n",
       "      <td>23561</td>\n",
       "      <td>8328.81216</td>\n",
       "      <td>151.05136</td>\n",
       "    </tr>\n",
       "    <tr>\n",
       "      <th>28230</th>\n",
       "      <td>2020-10-30 21:00:00+00:00</td>\n",
       "      <td>2020-10-30 22:00:00+00:00</td>\n",
       "      <td>24153</td>\n",
       "      <td>8381.43917</td>\n",
       "      <td>161.57291</td>\n",
       "    </tr>\n",
       "    <tr>\n",
       "      <th>28231</th>\n",
       "      <td>2020-10-30 22:00:00+00:00</td>\n",
       "      <td>2020-10-30 23:00:00+00:00</td>\n",
       "      <td>24810</td>\n",
       "      <td>7707.46670</td>\n",
       "      <td>135.37680</td>\n",
       "    </tr>\n",
       "  </tbody>\n",
       "</table>\n",
       "</div>"
      ],
      "text/plain": [
       "                       start_dt                    end_dt  \\\n",
       "28227 2020-10-30 18:00:00+00:00 2020-10-30 19:00:00+00:00   \n",
       "28228 2020-10-30 19:00:00+00:00 2020-10-30 20:00:00+00:00   \n",
       "28229 2020-10-30 20:00:00+00:00 2020-10-30 21:00:00+00:00   \n",
       "28230 2020-10-30 21:00:00+00:00 2020-10-30 22:00:00+00:00   \n",
       "28231 2020-10-30 22:00:00+00:00 2020-10-30 23:00:00+00:00   \n",
       "\n",
       "       total_integrated_load_MW  solar_generation_MW  wind_generation_MW  \n",
       "28227                     23224           8243.72168           148.89958  \n",
       "28228                     23304           8151.44188           150.94192  \n",
       "28229                     23561           8328.81216           151.05136  \n",
       "28230                     24153           8381.43917           161.57291  \n",
       "28231                     24810           7707.46670           135.37680  "
      ]
     },
     "execution_count": 24,
     "metadata": {},
     "output_type": "execute_result"
    }
   ],
   "source": [
    "df.tail()"
   ]
  },
  {
   "cell_type": "code",
   "execution_count": 25,
   "metadata": {},
   "outputs": [],
   "source": [
    "df.to_csv('../data/CAISO-20170701-20201030.csv')"
   ]
  },
  {
   "cell_type": "code",
   "execution_count": null,
   "metadata": {},
   "outputs": [],
   "source": [
    "df = pd.read_csv('../data/CAISO-20170701-20201030.csv')\n",
    "df['start_dt'] = pd.to_datetime(df['start_dt'])\n",
    "df['end_dt'] = pd.to_datetime(df['end_dt'])\n",
    "df['covariate_x'] = df['end_dt'].apply(lambda i:[i.week,i.dayofweek,i.hour])\n",
    "df['ramp'] = df['total_integrated_load_MW'] - df['solar_generation_MW'] - df['wind_generation_MW']\n",
    "df.to_csv('../data/CAISO-20170701-20201030.csv',index=False)\n",
    "df.head()"
   ]
  }
 ],
 "metadata": {
  "kernelspec": {
   "display_name": "Python 3",
   "language": "python",
   "name": "python3"
  },
  "language_info": {
   "codemirror_mode": {
    "name": "ipython",
    "version": 3
   },
   "file_extension": ".py",
   "mimetype": "text/x-python",
   "name": "python",
   "nbconvert_exporter": "python",
   "pygments_lexer": "ipython3",
   "version": "3.7.3"
  }
 },
 "nbformat": 4,
 "nbformat_minor": 4
}
