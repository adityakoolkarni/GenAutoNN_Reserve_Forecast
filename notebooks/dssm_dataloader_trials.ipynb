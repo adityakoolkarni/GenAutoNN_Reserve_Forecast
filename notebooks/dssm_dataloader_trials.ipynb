{
 "cells": [
  {
   "cell_type": "code",
   "execution_count": 37,
   "metadata": {},
   "outputs": [],
   "source": [
    "%matplotlib inline\n",
    "import mxnet as mx\n",
    "from mxnet import gluon,nd\n",
    "import numpy as np\n",
    "import pandas as pd\n",
    "import matplotlib.pyplot as plt\n",
    "import json\n",
    "import os\n",
    "from itertools import islice\n",
    "from pathlib import Path\n",
    "from gluonts.dataset.repository.datasets import get_dataset, dataset_recipes\n",
    "from gluonts.dataset.util import to_pandas\n",
    "from gluonts.dataset.artificial import ComplexSeasonalTimeSeries\n",
    "from gluonts.dataset.common import ListDataset\n",
    "from gluonts.dataset.field_names import FieldName"
   ]
  },
  {
   "cell_type": "code",
   "execution_count": 99,
   "metadata": {},
   "outputs": [
    {
     "data": {
      "text/plain": [
       "cpu(0)"
      ]
     },
     "execution_count": 99,
     "metadata": {},
     "output_type": "execute_result"
    }
   ],
   "source": [
    "ctx = mx.cpu()\n",
    "mx.random.seed(0)\n",
    "np.random.seed(0)\n",
    "ctx"
   ]
  },
  {
   "cell_type": "code",
   "execution_count": 100,
   "metadata": {},
   "outputs": [
    {
     "data": {
      "text/html": [
       "<div>\n",
       "<style scoped>\n",
       "    .dataframe tbody tr th:only-of-type {\n",
       "        vertical-align: middle;\n",
       "    }\n",
       "\n",
       "    .dataframe tbody tr th {\n",
       "        vertical-align: top;\n",
       "    }\n",
       "\n",
       "    .dataframe thead th {\n",
       "        text-align: right;\n",
       "    }\n",
       "</style>\n",
       "<table border=\"1\" class=\"dataframe\">\n",
       "  <thead>\n",
       "    <tr style=\"text-align: right;\">\n",
       "      <th></th>\n",
       "      <th>start_dt</th>\n",
       "      <th>end_dt</th>\n",
       "      <th>total_integrated_load_MW</th>\n",
       "      <th>solar_generation_MW</th>\n",
       "      <th>wind_generation_MW</th>\n",
       "      <th>covariate_x</th>\n",
       "      <th>ramp_z</th>\n",
       "    </tr>\n",
       "  </thead>\n",
       "  <tbody>\n",
       "    <tr>\n",
       "      <th>0</th>\n",
       "      <td>2017-07-01 07:00:00+00:00</td>\n",
       "      <td>2017-07-01 08:00:00+00:00</td>\n",
       "      <td>25703</td>\n",
       "      <td>-31.09459</td>\n",
       "      <td>2881.98320</td>\n",
       "      <td>[26, 5, 8]</td>\n",
       "      <td>22852.11139</td>\n",
       "    </tr>\n",
       "    <tr>\n",
       "      <th>1</th>\n",
       "      <td>2017-07-01 08:00:00+00:00</td>\n",
       "      <td>2017-07-01 09:00:00+00:00</td>\n",
       "      <td>24043</td>\n",
       "      <td>-30.83811</td>\n",
       "      <td>2765.90229</td>\n",
       "      <td>[26, 5, 9]</td>\n",
       "      <td>21307.93582</td>\n",
       "    </tr>\n",
       "    <tr>\n",
       "      <th>2</th>\n",
       "      <td>2017-07-01 09:00:00+00:00</td>\n",
       "      <td>2017-07-01 10:00:00+00:00</td>\n",
       "      <td>22988</td>\n",
       "      <td>-30.48083</td>\n",
       "      <td>2791.72076</td>\n",
       "      <td>[26, 5, 10]</td>\n",
       "      <td>20226.76007</td>\n",
       "    </tr>\n",
       "    <tr>\n",
       "      <th>3</th>\n",
       "      <td>2017-07-01 10:00:00+00:00</td>\n",
       "      <td>2017-07-01 11:00:00+00:00</td>\n",
       "      <td>22423</td>\n",
       "      <td>-31.98818</td>\n",
       "      <td>2549.59684</td>\n",
       "      <td>[26, 5, 11]</td>\n",
       "      <td>19905.39134</td>\n",
       "    </tr>\n",
       "    <tr>\n",
       "      <th>4</th>\n",
       "      <td>2017-07-01 11:00:00+00:00</td>\n",
       "      <td>2017-07-01 12:00:00+00:00</td>\n",
       "      <td>22235</td>\n",
       "      <td>-32.67630</td>\n",
       "      <td>2502.67552</td>\n",
       "      <td>[26, 5, 12]</td>\n",
       "      <td>19765.00078</td>\n",
       "    </tr>\n",
       "  </tbody>\n",
       "</table>\n",
       "</div>"
      ],
      "text/plain": [
       "                    start_dt                     end_dt  \\\n",
       "0  2017-07-01 07:00:00+00:00  2017-07-01 08:00:00+00:00   \n",
       "1  2017-07-01 08:00:00+00:00  2017-07-01 09:00:00+00:00   \n",
       "2  2017-07-01 09:00:00+00:00  2017-07-01 10:00:00+00:00   \n",
       "3  2017-07-01 10:00:00+00:00  2017-07-01 11:00:00+00:00   \n",
       "4  2017-07-01 11:00:00+00:00  2017-07-01 12:00:00+00:00   \n",
       "\n",
       "   total_integrated_load_MW  solar_generation_MW  wind_generation_MW  \\\n",
       "0                     25703            -31.09459          2881.98320   \n",
       "1                     24043            -30.83811          2765.90229   \n",
       "2                     22988            -30.48083          2791.72076   \n",
       "3                     22423            -31.98818          2549.59684   \n",
       "4                     22235            -32.67630          2502.67552   \n",
       "\n",
       "   covariate_x       ramp_z  \n",
       "0   [26, 5, 8]  22852.11139  \n",
       "1   [26, 5, 9]  21307.93582  \n",
       "2  [26, 5, 10]  20226.76007  \n",
       "3  [26, 5, 11]  19905.39134  \n",
       "4  [26, 5, 12]  19765.00078  "
      ]
     },
     "execution_count": 100,
     "metadata": {},
     "output_type": "execute_result"
    }
   ],
   "source": [
    "df = pd.read_csv(\"../data/CAISO-20170701-20201030.csv\")\n",
    "df.head()"
   ]
  },
  {
   "cell_type": "code",
   "execution_count": 101,
   "metadata": {},
   "outputs": [
    {
     "ename": "IndentationError",
     "evalue": "unexpected indent (<ipython-input-101-e961460db339>, line 2)",
     "output_type": "error",
     "traceback": [
      "\u001b[0;36m  File \u001b[0;32m\"<ipython-input-101-e961460db339>\"\u001b[0;36m, line \u001b[0;32m2\u001b[0m\n\u001b[0;31m    with h5py.File('../data/train_data_seq_len_7.h5','r') as f:\u001b[0m\n\u001b[0m    ^\u001b[0m\n\u001b[0;31mIndentationError\u001b[0m\u001b[0;31m:\u001b[0m unexpected indent\n"
     ]
    }
   ],
   "source": [
    "import h5py\n",
    "    with h5py.File('../data/train_data_seq_len_7.h5','r') as f:\n",
    "        feat_dynamic_cat = f['covariate_x'][:]"
   ]
  },
  {
   "cell_type": "code",
   "execution_count": 102,
   "metadata": {},
   "outputs": [
    {
     "data": {
      "text/plain": [
       "Timestamp('2017-07-01 08:00:00+0000', tz='UTC')"
      ]
     },
     "execution_count": 102,
     "metadata": {},
     "output_type": "execute_result"
    }
   ],
   "source": [
    "df['end_dt'] = pd.to_datetime(df['end_dt'])\n",
    "df['end_dt'][0]"
   ]
  },
  {
   "cell_type": "code",
   "execution_count": 103,
   "metadata": {},
   "outputs": [],
   "source": [
    "train_size = 24*100"
   ]
  },
  {
   "cell_type": "code",
   "execution_count": 104,
   "metadata": {},
   "outputs": [],
   "source": [
    "def create_dataset(num_series, num_steps, period=24, mu=1, sigma=0.3):\n",
    "    df = pd.read_csv(\"../data/CAISO-20170701-20201030.csv\")\n",
    "    target = df['ramp_z'][:train_size].to_numpy().reshape(1,-1)\n",
    "#     df['end_dt'] = df['end_dt'].apply(lambda )\n",
    "    \n",
    "    feat_dynamic_cat = np.random.randint(0,24,(target.shape[1],3))\n",
    "    \n",
    "    return target, feat_dynamic_cat\n",
    "    "
   ]
  },
  {
   "cell_type": "code",
   "execution_count": 105,
   "metadata": {},
   "outputs": [],
   "source": [
    "custom_ds_metadata = {'num_series': 1,\n",
    "                      'num_steps': train_size,\n",
    "                      'prediction_length': 24,\n",
    "                      'freq': '1H',\n",
    "                      'start': [pd.Timestamp(\"01-01-2019\", freq='1H') \n",
    "                                for _ in range(1)]\n",
    "                     }"
   ]
  },
  {
   "cell_type": "code",
   "execution_count": 106,
   "metadata": {},
   "outputs": [],
   "source": [
    "data_out = create_dataset(custom_ds_metadata['num_series'], \n",
    "                          custom_ds_metadata['num_steps'],                                                      \n",
    "                          custom_ds_metadata['prediction_length']\n",
    "                         )\n",
    "\n",
    "target, feat_dynamic_cat = data_out"
   ]
  },
  {
   "cell_type": "code",
   "execution_count": 107,
   "metadata": {},
   "outputs": [],
   "source": [
    "for d in data_out:\n",
    "    d = nd.array(d,ctx=ctx)"
   ]
  },
  {
   "cell_type": "code",
   "execution_count": 108,
   "metadata": {},
   "outputs": [
    {
     "data": {
      "text/plain": [
       "((1, 2400), (2400, 3))"
      ]
     },
     "execution_count": 108,
     "metadata": {},
     "output_type": "execute_result"
    }
   ],
   "source": [
    "target.shape,feat_dynamic_cat.shape"
   ]
  },
  {
   "cell_type": "code",
   "execution_count": 109,
   "metadata": {},
   "outputs": [],
   "source": [
    "train_ds = ListDataset([{FieldName.TARGET: target, \n",
    "                         FieldName.START: start,\n",
    "                         FieldName.FEAT_DYNAMIC_CAT: [fdc]}\n",
    "                        for (target, start, fdc) in zip(target[:, :-custom_ds_metadata['prediction_length']], \n",
    "                                                             custom_ds_metadata['start'], \n",
    "                                                             feat_dynamic_cat[:, :-custom_ds_metadata['prediction_length']])],\n",
    "                      freq=custom_ds_metadata['freq'])"
   ]
  },
  {
   "cell_type": "code",
   "execution_count": 110,
   "metadata": {},
   "outputs": [],
   "source": [
    "test_ds = ListDataset([{FieldName.TARGET: target, \n",
    "                        FieldName.START: start,\n",
    "                        FieldName.FEAT_DYNAMIC_CAT: [fdc],}\n",
    "                       for (target, start, fdc) in zip(target, \n",
    "                                                        custom_ds_metadata['start'], \n",
    "                                                        feat_dynamic_cat)],\n",
    "                     freq=custom_ds_metadata['freq'])"
   ]
  },
  {
   "cell_type": "code",
   "execution_count": 111,
   "metadata": {},
   "outputs": [
    {
     "data": {
      "text/plain": [
       "(dict_keys(['target', 'start', 'feat_dynamic_cat', 'source']),\n",
       " dict_keys(['target', 'start', 'feat_dynamic_cat', 'source']))"
      ]
     },
     "execution_count": 111,
     "metadata": {},
     "output_type": "execute_result"
    }
   ],
   "source": [
    "train_entry = next(iter(train_ds))\n",
    "test_entry = next(iter(test_ds))\n",
    "test_entry.keys(),train_entry.keys()\n"
   ]
  },
  {
   "cell_type": "code",
   "execution_count": 78,
   "metadata": {},
   "outputs": [],
   "source": [
    "for k in train_entry.keys():\n",
    "    train_entry['target'] = nd.array(train_entry['target'],ctx=ctx)\n",
    "    test_entry['target'] = nd.array(test_entry['target'],ctx=ctx)"
   ]
  },
  {
   "cell_type": "code",
   "execution_count": 112,
   "metadata": {},
   "outputs": [],
   "source": [
    "from gluonts.model.simple_feedforward import SimpleFeedForwardEstimator\n",
    "from gluonts.model.deepstate import DeepStateEstimator\n",
    "from gluonts.trainer import Trainer"
   ]
  },
  {
   "cell_type": "code",
   "execution_count": 121,
   "metadata": {},
   "outputs": [],
   "source": [
    "estimator = DeepStateEstimator(\n",
    "    freq = custom_ds_metadata['freq'],\n",
    "    prediction_length=custom_ds_metadata['prediction_length'],\n",
    "    cardinality=[24],\n",
    "    add_trend=True,\n",
    "    past_length=train_size,\n",
    "    use_feat_static_cat = False,\n",
    "    trainer=Trainer(ctx=ctx, \n",
    "                epochs=1, \n",
    "                learning_rate=1e-3, \n",
    "                hybridize=False, \n",
    "                num_batches_per_epoch=10\n",
    "               )\n",
    ")"
   ]
  },
  {
   "cell_type": "code",
   "execution_count": 122,
   "metadata": {},
   "outputs": [
    {
     "name": "stderr",
     "output_type": "stream",
     "text": [
      "100%|██████████| 10/10 [04:27<00:00, 26.77s/it, epoch=1/1, avg_epoch_loss=0.281]\n"
     ]
    }
   ],
   "source": [
    "predictor = estimator.train(train_ds)"
   ]
  },
  {
   "cell_type": "code",
   "execution_count": 123,
   "metadata": {},
   "outputs": [],
   "source": [
    "from gluonts.evaluation.backtest import make_evaluation_predictions "
   ]
  },
  {
   "cell_type": "code",
   "execution_count": 147,
   "metadata": {},
   "outputs": [],
   "source": [
    "forecast_it, ts_it = make_evaluation_predictions(\n",
    "    dataset=test_ds,  # test dataset\n",
    "    predictor=predictor,  # predictor\n",
    "    num_samples=100,  # number of sample paths we want for evaluation\n",
    ")"
   ]
  },
  {
   "cell_type": "code",
   "execution_count": 148,
   "metadata": {},
   "outputs": [],
   "source": [
    "forecasts = list(forecast_it)\n",
    "tss = list(ts_it)"
   ]
  },
  {
   "cell_type": "code",
   "execution_count": 149,
   "metadata": {},
   "outputs": [
    {
     "data": {
      "text/plain": [
       "array([22852.111, 21307.936, 20226.76 , 19905.39 , 19765.   ],\n",
       "      dtype=float32)"
      ]
     },
     "execution_count": 149,
     "metadata": {},
     "output_type": "execute_result"
    }
   ],
   "source": [
    "ts_entry = tss[0]\n",
    "np.array(ts_entry[:5]).reshape(-1,)"
   ]
  },
  {
   "cell_type": "code",
   "execution_count": 150,
   "metadata": {},
   "outputs": [],
   "source": [
    "test_ds_entry = next(iter(test_ds))"
   ]
  },
  {
   "cell_type": "code",
   "execution_count": 151,
   "metadata": {},
   "outputs": [
    {
     "data": {
      "text/plain": [
       "array([22852.111, 21307.936, 20226.76 , 19905.39 , 19765.   ],\n",
       "      dtype=float32)"
      ]
     },
     "execution_count": 151,
     "metadata": {},
     "output_type": "execute_result"
    }
   ],
   "source": [
    "test_ds_entry['target'][:5]"
   ]
  },
  {
   "cell_type": "code",
   "execution_count": 129,
   "metadata": {},
   "outputs": [],
   "source": [
    "forecast_entry = forecasts[0]"
   ]
  },
  {
   "cell_type": "code",
   "execution_count": 155,
   "metadata": {},
   "outputs": [
    {
     "name": "stdout",
     "output_type": "stream",
     "text": [
      "Number of sample paths: 100\n",
      "Dimension of samples: (100, 24)\n",
      "Start date of the forecast window: 2019-04-10 00:00:00\n",
      "Frequency of the time series: 1H\n"
     ]
    }
   ],
   "source": [
    "print(f\"Number of sample paths: {forecast_entry.num_samples}\")\n",
    "print(f\"Dimension of samples: {forecast_entry.samples.shape}\")\n",
    "print(f\"Start date of the forecast window: {forecast_entry.start_date}\")\n",
    "print(f\"Frequency of the time series: {forecast_entry.freq}\")"
   ]
  },
  {
   "cell_type": "code",
   "execution_count": 161,
   "metadata": {},
   "outputs": [],
   "source": [
    "def plot_prob_forecasts(ts_entry, forecast_entry):\n",
    "    plot_length = 24\n",
    "    prediction_intervals = (50.0, 90.0)\n",
    "    legend = [\"observations\", \"median prediction\"] + [f\"{k}% prediction interval\" for k in prediction_intervals][::-1]\n",
    "    \n",
    "\n",
    "    fig, ax = plt.subplots(1, 1, figsize=(10, 7))\n",
    "    ts_entry[-plot_length:].plot(ax=ax)  # plot the time series\n",
    "#     plt.plot(forecast_entry.mean)\n",
    "    forecast_entry.plot(prediction_intervals=prediction_intervals, color='g')\n",
    "    plt.grid(which=\"both\")\n",
    "    plt.legend(legend, loc=\"upper left\")\n",
    "    plt.show()"
   ]
  },
  {
   "cell_type": "code",
   "execution_count": 162,
   "metadata": {},
   "outputs": [
    {
     "data": {
      "image/png": "[encoded data removed]",
      "text/plain": [
       "<Figure size 720x504 with 1 Axes>"
      ]
     },
     "metadata": {
      "needs_background": "light"
     },
     "output_type": "display_data"
    }
   ],
   "source": [
    "plot_prob_forecasts(ts_entry, forecast_entry)"
   ]
  },
  {
   "cell_type": "code",
   "execution_count": null,
   "metadata": {},
   "outputs": [],
   "source": []
  }
 ],
 "metadata": {
  "kernelspec": {
   "display_name": "Python 3",
   "language": "python",
   "name": "python3"
  },
  "language_info": {
   "codemirror_mode": {
    "name": "ipython",
    "version": 3
   },
   "file_extension": ".py",
   "mimetype": "text/x-python",
   "name": "python",
   "nbconvert_exporter": "python",
   "pygments_lexer": "ipython3",
   "version": "3.7.3"
  }
 },
 "nbformat": 4,
 "nbformat_minor": 2
}
