{
 "cells": [
  {
   "cell_type": "code",
   "execution_count": 1,
   "metadata": {},
   "outputs": [],
   "source": [
    "import mxnet as mx\n",
    "\n",
    "from mxnet.ndarray import linalg_gemm as gemm\n",
    "from mxnet.ndarray import linalg_gemm2 as gemm2\n",
    "from mxnet.ndarray import linalg_potrf as potrf\n",
    "from mxnet.ndarray import linalg_trsm as trsm\n",
    "from mxnet.ndarray import linalg_sumlogdiag as sumlogdiag\n",
    "\n",
    "import mxnet.ndarray as nd"
   ]
  },
  {
   "cell_type": "code",
   "execution_count": 2,
   "metadata": {},
   "outputs": [
    {
     "name": "stderr",
     "output_type": "stream",
     "text": [
      "ERROR:root:Internal Python error in the inspect module.\n",
      "Below is the traceback from this internal error.\n",
      "\n"
     ]
    },
    {
     "name": "stdout",
     "output_type": "stream",
     "text": [
      "Traceback (most recent call last):\n",
      "  File \"/opt/conda/lib/python3.7/site-packages/IPython/core/interactiveshell.py\", line 3326, in run_code\n",
      "    exec(code_obj, self.user_global_ns, self.user_ns)\n",
      "  File \"<ipython-input-2-6142d417481a>\", line 2, in <module>\n",
      "    import matplotlib.pyplot as plt\n",
      "  File \"/opt/conda/lib/python3.7/site-packages/matplotlib/__init__.py\", line 138, in <module>\n",
      "    from . import cbook, rcsetup\n",
      "  File \"/opt/conda/lib/python3.7/site-packages/matplotlib/rcsetup.py\", line 24, in <module>\n",
      "    from matplotlib.fontconfig_pattern import parse_fontconfig_pattern\n",
      "  File \"/opt/conda/lib/python3.7/site-packages/matplotlib/fontconfig_pattern.py\", line 18, in <module>\n",
      "    from pyparsing import (Literal, ZeroOrMore, Optional, Regex, StringEnd,\n",
      "  File \"/opt/conda/lib/python3.7/site-packages/pyparsing.py\", line 6366, in <module>\n",
      "    class pyparsing_common:\n",
      "  File \"/opt/conda/lib/python3.7/site-packages/pyparsing.py\", line 6524, in pyparsing_common\n",
      "    hex_integer = Word(hexnums).setName(\"hex integer\").setParseAction(tokenMap(int, 16))\n",
      "  File \"/opt/conda/lib/python3.7/site-packages/pyparsing.py\", line 1549, in setParseAction\n",
      "    self.parseAction = list(map(_trim_arity, list(fns)))\n",
      "  File \"/opt/conda/lib/python3.7/site-packages/pyparsing.py\", line 1302, in _trim_arity\n",
      "    this_line = extract_stack(limit=2)[-1]\n",
      "  File \"/opt/conda/lib/python3.7/site-packages/pyparsing.py\", line 1286, in extract_stack\n",
      "    frame_summary = traceback.extract_stack(limit=-offset + limit - 1)[offset]\n",
      "  File \"/opt/conda/lib/python3.7/traceback.py\", line 211, in extract_stack\n",
      "    stack = StackSummary.extract(walk_stack(f), limit=limit)\n",
      "  File \"/opt/conda/lib/python3.7/traceback.py\", line 357, in extract\n",
      "    filename, lineno, name, lookup_line=False, locals=f_locals))\n",
      "  File \"/opt/conda/lib/python3.7/traceback.py\", line 243, in __init__\n",
      "    def __init__(self, filename, lineno, name, *, lookup_line=True,\n",
      "KeyboardInterrupt\n",
      "\n",
      "During handling of the above exception, another exception occurred:\n",
      "\n",
      "Traceback (most recent call last):\n",
      "  File \"/opt/conda/lib/python3.7/site-packages/IPython/core/interactiveshell.py\", line 2040, in showtraceback\n",
      "    stb = value._render_traceback_()\n",
      "AttributeError: 'KeyboardInterrupt' object has no attribute '_render_traceback_'\n",
      "\n",
      "During handling of the above exception, another exception occurred:\n",
      "\n",
      "Traceback (most recent call last):\n",
      "  File \"/opt/conda/lib/python3.7/site-packages/IPython/core/ultratb.py\", line 1101, in get_records\n",
      "    return _fixed_getinnerframes(etb, number_of_lines_of_context, tb_offset)\n",
      "  File \"/opt/conda/lib/python3.7/site-packages/IPython/core/ultratb.py\", line 319, in wrapped\n",
      "    return f(*args, **kwargs)\n",
      "  File \"/opt/conda/lib/python3.7/site-packages/IPython/core/ultratb.py\", line 353, in _fixed_getinnerframes\n",
      "    records = fix_frame_records_filenames(inspect.getinnerframes(etb, context))\n",
      "  File \"/opt/conda/lib/python3.7/inspect.py\", line 1502, in getinnerframes\n",
      "    frameinfo = (tb.tb_frame,) + getframeinfo(tb, context)\n",
      "  File \"/opt/conda/lib/python3.7/inspect.py\", line 1460, in getframeinfo\n",
      "    filename = getsourcefile(frame) or getfile(frame)\n",
      "  File \"/opt/conda/lib/python3.7/inspect.py\", line 696, in getsourcefile\n",
      "    if getattr(getmodule(object, filename), '__loader__', None) is not None:\n",
      "  File \"/opt/conda/lib/python3.7/inspect.py\", line 742, in getmodule\n",
      "    os.path.realpath(f)] = module.__name__\n",
      "  File \"/opt/conda/lib/python3.7/posixpath.py\", line 395, in realpath\n",
      "    path, ok = _joinrealpath(filename[:0], filename, {})\n",
      "  File \"/opt/conda/lib/python3.7/posixpath.py\", line 429, in _joinrealpath\n",
      "    if not islink(newpath):\n",
      "  File \"/opt/conda/lib/python3.7/posixpath.py\", line 171, in islink\n",
      "    st = os.lstat(path)\n",
      "KeyboardInterrupt\n"
     ]
    },
    {
     "ename": "KeyboardInterrupt",
     "evalue": "",
     "output_type": "error",
     "traceback": [
      "\u001b[0;31m\u001b[0m"
     ]
    }
   ],
   "source": [
    "import numpy as np\n",
    "import matplotlib.pyplot as plt\n",
    "%matplotlib inline\n",
    "plt.rcParams[\"figure.figsize\"] = (10, 5)"
   ]
  },
  {
   "cell_type": "code",
   "execution_count": null,
   "metadata": {},
   "outputs": [],
   "source": [
    "\n",
    "alpha = 0.5\n",
    "sigma = 0.5\n",
    "theta = np.pi / 6\n",
    "T = 50\n",
    "\n",
    "A = nd.array([[np.cos(theta), -np.sin(theta)],\n",
    "              [np.sin(theta), np.cos(theta)]])\n",
    "B = nd.array([[1, 0]])\n",
    "\n",
    "S_h = nd.array(np.square(alpha) * np.eye(2))\n",
    "S_v = nd.array(np.square(sigma) * np.eye(1))\n",
    "\n",
    "v = []\n",
    "# initial state h_0\n",
    "h = np.array([1, 0])\n",
    "for t in range(T):\n",
    "    # h_t = Bh_{t-1} + \\epsilon_h\n",
    "    h = np.random.multivariate_normal(A.asnumpy().dot(h), S_h.asnumpy())\n",
    "\n",
    "    # v_t = Ah_t + \\epsilon_v\n",
    "    vv = np.random.normal(B.asnumpy().dot(h), S_v.asnumpy())\n",
    "\n",
    "    v.append(vv)\n",
    "v = nd.array(np.array(v).reshape((T,1)))"
   ]
  },
  {
   "cell_type": "code",
   "execution_count": null,
   "metadata": {},
   "outputs": [],
   "source": [
    "plt.plot(v.asnumpy());"
   ]
  },
  {
   "cell_type": "code",
   "execution_count": null,
   "metadata": {},
   "outputs": [],
   "source": [
    "def LDS_forward(v, A, B, S_h, S_v):\n",
    "\n",
    "    H = A.shape[0] # dim of latent state\n",
    "    D = B.shape[0] # dim of observation\n",
    "    T = v.shape[0] # num of observations\n",
    "\n",
    "    f_0 = nd.zeros((H,1))\n",
    "    F_0 = nd.zeros((H,H))\n",
    "\n",
    "    eye_h = nd.array(np.eye(H))\n",
    "\n",
    "    F_t = None\n",
    "    f_t = None\n",
    "    F_seq = []\n",
    "    f_seq = []\n",
    "    log_p_seq = []\n",
    "\n",
    "    for t in range(T):\n",
    "\n",
    "        if t == 0:\n",
    "            # At the first time step, use the prior\n",
    "            mu_h = f_0\n",
    "            S_hh = F_0\n",
    "        else:\n",
    "            # Otherwise compute using update eqns.\n",
    "            mu_h = gemm2(A, f_t)\n",
    "            S_hh = gemm2(A, gemm2(F_t, A, transpose_b=1)) + S_h\n",
    "\n",
    "        # direct transcription of the update equations above\n",
    "        mu_v = gemm2(B, mu_h)\n",
    "        S_hh_x_B_t = gemm2(S_hh, B, transpose_b=1)\n",
    "        S_vv = gemm2(B, S_hh_x_B_t) + S_v\n",
    "        S_vh = gemm2(B, S_hh)\n",
    "\n",
    "        # use potrf to compute the Cholesky decomposition S_vv = LL^T\n",
    "        S_vv_chol = potrf(S_vv)\n",
    "\n",
    "        # K = S_hh X with X = B^T S_vv^{-1}\n",
    "        # We have X = B^T S_vv^{-1} => X S_vv = B^T => X LL^T = B^T\n",
    "        # We can thus obtain X by solving two linear systems involving L\n",
    "        K = trsm(S_vv_chol, trsm(S_vv_chol, S_hh_x_B_t, rightside=1, transpose=1), rightside=1)\n",
    "\n",
    "        delta = v[t] - mu_v\n",
    "        f_t = mu_h + gemm2(K, delta)\n",
    "\n",
    "        ImKB = eye_h - gemm2(K, B)\n",
    "        F_t = (gemm2(ImKB, gemm2(S_hh, ImKB, transpose_b=True))\n",
    "                       + gemm2(K, gemm2(S_v, K, transpose_b=True), name=\"Ft\"))\n",
    "\n",
    "        # save filtered covariance and mean\n",
    "        F_seq.append(F_t)\n",
    "        f_seq.append(f_t)\n",
    "\n",
    "        # compute the likelihood using mu_v and L (LL^T = S_vv)\n",
    "        Z = trsm(S_vv_chol, trsm(S_vv_chol, delta), transpose=1)\n",
    "        log_p = (-0.5 * (mx.nd.reshape(gemm2(delta, Z, transpose_a=True), shape=(0,), name=\"reshaped\")\n",
    "                         + D*np.log(2.0 * np.pi)) - sumlogdiag(S_vv_chol))\n",
    "        log_p_seq.append(log_p)\n",
    "\n",
    "\n",
    "    return f_seq, F_seq, log_p_seq"
   ]
  },
  {
   "cell_type": "code",
   "execution_count": null,
   "metadata": {},
   "outputs": [],
   "source": [
    "A = nd.array([[4.0, 1.0], [1.0, 4.25]])\n",
    "B = potrf(A)\n",
    "# potrf(A) = [[[2.0, 0], [0.5, 2.0]], [[4.0, 0], [1.0, 4.0]]]\n",
    "B"
   ]
  },
  {
   "cell_type": "code",
   "execution_count": null,
   "metadata": {},
   "outputs": [],
   "source": [
    "gemm2(B, B,transpose_b=True)"
   ]
  },
  {
   "cell_type": "code",
   "execution_count": null,
   "metadata": {},
   "outputs": [],
   "source": [
    "A"
   ]
  },
  {
   "cell_type": "code",
   "execution_count": null,
   "metadata": {},
   "outputs": [],
   "source": [
    "import pandas as pd\n",
    "import numpy as np\n",
    "%matplotlib inline\n",
    "import matplotlib.pyplot as plt\n",
    "plt.rcParams[\"figure.figsize\"] = (12, 5)"
   ]
  },
  {
   "cell_type": "code",
   "execution_count": null,
   "metadata": {},
   "outputs": [],
   "source": [
    "df = pd.read_csv(\"https://datahub.io/core/bond-yields-us-10y/r/monthly.csv\", header=0)"
   ]
  },
  {
   "cell_type": "code",
   "execution_count": null,
   "metadata": {},
   "outputs": [],
   "source": [
    "df.set_index(\"Date\")\n",
    "\n",
    "# get the time series\n",
    "ts = df.values[:,1]\n",
    "\n",
    "# Let us normalize the time series\n",
    "ts = np.array((ts - np.mean(ts)) / np.std(ts), dtype=np.double)"
   ]
  },
  {
   "cell_type": "code",
   "execution_count": 20,
   "metadata": {},
   "outputs": [
    {
     "data": {
      "text/plain": [
       "tensor([[ 1.8596, -1.2841, -1.3015]])"
      ]
     },
     "execution_count": 20,
     "metadata": {},
     "output_type": "execute_result"
    }
   ],
   "source": [
    "import torch\n",
    "torch.randn(1, 3)"
   ]
  },
  {
   "cell_type": "code",
   "execution_count": 21,
   "metadata": {},
   "outputs": [
    {
     "data": {
      "text/plain": [
       "<torch._C.Generator at 0x7f33d2d2f3b0>"
      ]
     },
     "execution_count": 21,
     "metadata": {},
     "output_type": "execute_result"
    }
   ],
   "source": [
    "import torch\n",
    "import torch.nn as nn\n",
    "import torch.nn.functional as F\n",
    "import torch.optim as optim\n",
    "\n",
    "torch.manual_seed(1)"
   ]
  },
  {
   "cell_type": "code",
   "execution_count": 24,
   "metadata": {},
   "outputs": [
    {
     "data": {
      "text/plain": [
       "(tensor([[[-0.1955, -0.9656,  0.4224]]]),\n",
       " tensor([[[ 0.2673, -0.4212, -0.5107]]]))"
      ]
     },
     "execution_count": 24,
     "metadata": {},
     "output_type": "execute_result"
    }
   ],
   "source": [
    "hidden = (torch.randn(1, 1, 3),\n",
    "          torch.randn(1, 1, 3))\n",
    "hidden"
   ]
  },
  {
   "cell_type": "code",
   "execution_count": null,
   "metadata": {},
   "outputs": [],
   "source": [
    "plt.plot(ts);"
   ]
  },
  {
   "cell_type": "code",
   "execution_count": 4,
   "metadata": {},
   "outputs": [],
   "source": [
    "from __future__ import print_function\n",
    "import mxnet as mx\n",
    "from mxnet import nd, autograd\n",
    "import numpy as np\n",
    "mx.random.seed(1)\n",
    "ctx = mx.gpu(0)"
   ]
  },
  {
   "cell_type": "code",
   "execution_count": null,
   "metadata": {},
   "outputs": [],
   "source": [
    "with open(\"../data/nlp/timemachine.txt\") as f:\n",
    "    time_machine = f.read()\n",
    "time_machine = time_machine[:-38083]"
   ]
  },
  {
   "cell_type": "code",
   "execution_count": 14,
   "metadata": {},
   "outputs": [],
   "source": [
    "layer = mx.gluon.rnn.LSTM(100, 1)\n",
    "layer.initialize()\n",
    "input = mx.nd.random.uniform(shape=(1, 3, 5))\n",
    "# by default zeros are used as begin state\n",
    "output = layer(input)\n",
    "# manually specify begin state.\n",
    "# h0 = mx.nd.random.uniform(shape=(3, 3, 100))\n",
    "# c0 = mx.nd.random.uniform(shape=(3, 3, 100))\n",
    "# output, hn = layer(input, [h0, c0])"
   ]
  },
  {
   "cell_type": "code",
   "execution_count": 15,
   "metadata": {},
   "outputs": [
    {
     "data": {
      "text/plain": [
       "\n",
       "[[[0.88996416 0.2945612  0.9355159  0.82150155 0.06717816]\n",
       "  [0.22636814 0.7380694  0.7463265  0.99051315 0.1059881 ]\n",
       "  [0.15745817 0.9617902  0.60287184 0.6584172  0.2708346 ]]]\n",
       "<NDArray 1x3x5 @cpu(0)>"
      ]
     },
     "execution_count": 15,
     "metadata": {},
     "output_type": "execute_result"
    }
   ],
   "source": [
    "input"
   ]
  },
  {
   "cell_type": "code",
   "execution_count": 16,
   "metadata": {},
   "outputs": [
    {
     "data": {
      "text/plain": [
       "(1, 3, 100)"
      ]
     },
     "execution_count": 16,
     "metadata": {},
     "output_type": "execute_result"
    }
   ],
   "source": [
    "output.shape"
   ]
  },
  {
   "cell_type": "code",
   "execution_count": 19,
   "metadata": {},
   "outputs": [],
   "source": [
    "mx.gluon.rnn.LSTM?"
   ]
  },
  {
   "cell_type": "code",
   "execution_count": null,
   "metadata": {},
   "outputs": [],
   "source": []
  }
 ],
 "metadata": {
  "kernelspec": {
   "display_name": "Python 3",
   "language": "python",
   "name": "python3"
  },
  "language_info": {
   "codemirror_mode": {
    "name": "ipython",
    "version": 3
   },
   "file_extension": ".py",
   "mimetype": "text/x-python",
   "name": "python",
   "nbconvert_exporter": "python",
   "pygments_lexer": "ipython3",
   "version": "3.7.3"
  }
 },
 "nbformat": 4,
 "nbformat_minor": 2
}
